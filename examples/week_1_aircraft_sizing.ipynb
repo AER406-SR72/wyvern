{
 "cells": [
  {
   "cell_type": "markdown",
   "metadata": {},
   "source": [
    "# Sizing Demo\n",
    "1. Get total fixed mass (i.e. $W_{\\text{propulsion}} + W_{\\text{avionics}}$)\n",
    "2. Determine aerostructural mass ratio of aircraft\n",
    "3. Determine $W_{\\text{payload}}$ from payload configuration\n",
    "4. Determine $W_0$"
   ]
  },
  {
   "cell_type": "code",
   "execution_count": 1,
   "metadata": {},
   "outputs": [
    {
     "name": "stdout",
     "output_type": "stream",
     "text": [
      "Propulsion mass: 143.5 g\n",
      "Avionics mass: 304.7 g\n"
     ]
    }
   ],
   "source": [
    "from wyvern.data import PROPULSION_COMPONENTS, AVIONICS_COMPONENTS\n",
    "from wyvern.sizing import total_component_mass\n",
    "\n",
    "propulsion_mass = total_component_mass(PROPULSION_COMPONENTS)\n",
    "avionics_mass = total_component_mass(AVIONICS_COMPONENTS)\n",
    "\n",
    "print(f\"Propulsion mass: {propulsion_mass:.1f} g\")\n",
    "print(f\"Avionics mass: {avionics_mass:.1f} g\")\n",
    "\n",
    "total_fixed_mass = propulsion_mass + avionics_mass"
   ]
  },
  {
   "cell_type": "code",
   "execution_count": 2,
   "metadata": {},
   "outputs": [
    {
     "name": "stdout",
     "output_type": "stream",
     "text": [
      "Aerostructural mass ratio: 0.453\n"
     ]
    }
   ],
   "source": [
    "\n",
    "from wyvern.data import RASSAM_CORRELATIONS\n",
    "from wyvern.sizing import aerostructural_mass_ratio\n",
    "\n",
    "as_ratio = aerostructural_mass_ratio(RASSAM_CORRELATIONS, total_fixed_mass)\n",
    "print(f\"Aerostructural mass ratio: {as_ratio:.3f}\")"
   ]
  },
  {
   "cell_type": "code",
   "execution_count": 3,
   "metadata": {},
   "outputs": [
    {
     "name": "stdout",
     "output_type": "stream",
     "text": [
      "Payload mass of configuration (8, 2, 4): 351.1 g\n"
     ]
    }
   ],
   "source": [
    "from wyvern.sizing import payload_mass\n",
    "payload_config = (8, 2, 4)\n",
    "\n",
    "m_payload = payload_mass(payload_config)\n",
    "print(f\"Payload mass of configuration {payload_config}: {m_payload:.1f} g\")"
   ]
  },
  {
   "cell_type": "code",
   "execution_count": 4,
   "metadata": {},
   "outputs": [
    {
     "name": "stdout",
     "output_type": "stream",
     "text": [
      "Total mass of configuration (8, 2, 4): 1460.1 g\n"
     ]
    }
   ],
   "source": [
    "from wyvern.sizing import total_mass\n",
    "\n",
    "m_total = total_mass(payload_config, as_ratio, total_fixed_mass)\n",
    "print(f\"Total mass of configuration {payload_config}: {m_total:.1f} g\")"
   ]
  }
 ],
 "metadata": {
  "kernelspec": {
   "display_name": "venv",
   "language": "python",
   "name": "python3"
  },
  "language_info": {
   "codemirror_mode": {
    "name": "ipython",
    "version": 3
   },
   "file_extension": ".py",
   "mimetype": "text/x-python",
   "name": "python",
   "nbconvert_exporter": "python",
   "pygments_lexer": "ipython3",
   "version": "3.10.2"
  }
 },
 "nbformat": 4,
 "nbformat_minor": 2
}
